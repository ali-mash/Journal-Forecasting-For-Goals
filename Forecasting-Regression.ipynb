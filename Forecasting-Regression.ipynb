{
 "cells": [
  {
   "cell_type": "code",
   "execution_count": 1,
   "id": "2368d693",
   "metadata": {},
   "outputs": [],
   "source": [
    "import pandas as pd\n",
    "import numpy as np\n",
    "from sklearn.ensemble import RandomForestRegressor\n",
    "from sklearn.preprocessing import OneHotEncoder\n",
    "from sklearn.compose import ColumnTransformer\n",
    "from sklearn.pipeline import Pipeline\n",
    "from sklearn.multioutput import MultiOutputRegressor"
   ]
  },
  {
   "cell_type": "code",
   "execution_count": 4,
   "id": "c0b51465",
   "metadata": {},
   "outputs": [],
   "source": [
    "df = pd.read_excel(\"C:\\\\Users\\\\masali\\\\OneDrive - Wiley\\\\Desktop\\\\FYGoals\\\\Data for FY2026 06242025.xlsx\", header=1)"
   ]
  },
  {
   "cell_type": "code",
   "execution_count": 7,
   "id": "e3fcd266",
   "metadata": {},
   "outputs": [
    {
     "data": {
      "text/html": [
       "<div>\n",
       "<style scoped>\n",
       "    .dataframe tbody tr th:only-of-type {\n",
       "        vertical-align: middle;\n",
       "    }\n",
       "\n",
       "    .dataframe tbody tr th {\n",
       "        vertical-align: top;\n",
       "    }\n",
       "\n",
       "    .dataframe thead th {\n",
       "        text-align: right;\n",
       "    }\n",
       "</style>\n",
       "<table border=\"1\" class=\"dataframe\">\n",
       "  <thead>\n",
       "    <tr style=\"text-align: right;\">\n",
       "      <th></th>\n",
       "      <th>FY</th>\n",
       "      <th>journal code</th>\n",
       "      <th>Publishing Development Group</th>\n",
       "      <th>IP Owner</th>\n",
       "      <th>Owned By</th>\n",
       "      <th>WOL Level 2 Subject</th>\n",
       "      <th>Editorial Office Model</th>\n",
       "      <th>Editor In Chief Model</th>\n",
       "      <th>ownership</th>\n",
       "      <th>revenue model</th>\n",
       "      <th>...</th>\n",
       "      <th>marketing categorization</th>\n",
       "      <th>Submissions</th>\n",
       "      <th>Decisions</th>\n",
       "      <th>Final Decisions</th>\n",
       "      <th>Median Submission to First Decision TAT</th>\n",
       "      <th>Median Submission to Acceptance TAT</th>\n",
       "      <th>Acceptance Rate Including Non Peer Reviewed Papers</th>\n",
       "      <th>Acceptance Rate Including Peer Reviewed Papers</th>\n",
       "      <th>Triage Rate</th>\n",
       "      <th>EDR Rate</th>\n",
       "    </tr>\n",
       "  </thead>\n",
       "  <tbody>\n",
       "    <tr>\n",
       "      <th>0</th>\n",
       "      <td>2025</td>\n",
       "      <td>ABAC</td>\n",
       "      <td>APAC-JPN/AUS/NZ</td>\n",
       "      <td>JWAS Australia Ltd. AU</td>\n",
       "      <td>The Accounting Foundation, The University of S...</td>\n",
       "      <td>Accounting</td>\n",
       "      <td>External</td>\n",
       "      <td>External</td>\n",
       "      <td>Society Owned</td>\n",
       "      <td>Hybrid Model</td>\n",
       "      <td>...</td>\n",
       "      <td>Established Title</td>\n",
       "      <td>364.0</td>\n",
       "      <td>359.0</td>\n",
       "      <td>349.0</td>\n",
       "      <td>125.466331</td>\n",
       "      <td>328.996916</td>\n",
       "      <td>0.117479</td>\n",
       "      <td>0.310345</td>\n",
       "      <td>0.653295</td>\n",
       "      <td>NaN</td>\n",
       "    </tr>\n",
       "    <tr>\n",
       "      <th>1</th>\n",
       "      <td>2025</td>\n",
       "      <td>ACEM</td>\n",
       "      <td>HS2</td>\n",
       "      <td>John Wiley &amp; Sons, Inc. US</td>\n",
       "      <td>Society for Academic Emergency Medicine</td>\n",
       "      <td>Emergency Medicine</td>\n",
       "      <td>External</td>\n",
       "      <td>External</td>\n",
       "      <td>Society Owned</td>\n",
       "      <td>Hybrid Model</td>\n",
       "      <td>...</td>\n",
       "      <td>Established Title</td>\n",
       "      <td>1337.0</td>\n",
       "      <td>1321.0</td>\n",
       "      <td>1311.0</td>\n",
       "      <td>44.506707</td>\n",
       "      <td>85.184236</td>\n",
       "      <td>0.169336</td>\n",
       "      <td>0.571429</td>\n",
       "      <td>0.755149</td>\n",
       "      <td>0.050343</td>\n",
       "    </tr>\n",
       "    <tr>\n",
       "      <th>2</th>\n",
       "      <td>2025</td>\n",
       "      <td>ACFI</td>\n",
       "      <td>APAC-JPN/AUS/NZ</td>\n",
       "      <td>JWAS Australia Ltd. AU</td>\n",
       "      <td>Accounting and Finance Association of Australi...</td>\n",
       "      <td>Accounting</td>\n",
       "      <td>Vendor Managed</td>\n",
       "      <td>External</td>\n",
       "      <td>Society Owned</td>\n",
       "      <td>Hybrid Model</td>\n",
       "      <td>...</td>\n",
       "      <td>Established Title</td>\n",
       "      <td>1089.0</td>\n",
       "      <td>1078.0</td>\n",
       "      <td>984.0</td>\n",
       "      <td>68.922101</td>\n",
       "      <td>283.181944</td>\n",
       "      <td>0.168699</td>\n",
       "      <td>0.372998</td>\n",
       "      <td>0.552846</td>\n",
       "      <td>NaN</td>\n",
       "    </tr>\n",
       "    <tr>\n",
       "      <th>3</th>\n",
       "      <td>2025</td>\n",
       "      <td>ACR2</td>\n",
       "      <td>HS3</td>\n",
       "      <td>John Wiley &amp; Sons, Inc. US</td>\n",
       "      <td>American College of Rheumatology</td>\n",
       "      <td>Rheumatology</td>\n",
       "      <td>J&amp;J Editorial</td>\n",
       "      <td>External</td>\n",
       "      <td>Society Owned</td>\n",
       "      <td>OA</td>\n",
       "      <td>...</td>\n",
       "      <td>Established Title</td>\n",
       "      <td>425.0</td>\n",
       "      <td>428.0</td>\n",
       "      <td>414.0</td>\n",
       "      <td>63.300208</td>\n",
       "      <td>136.450949</td>\n",
       "      <td>0.410628</td>\n",
       "      <td>0.754717</td>\n",
       "      <td>0.495169</td>\n",
       "      <td>0.229469</td>\n",
       "    </tr>\n",
       "    <tr>\n",
       "      <th>4</th>\n",
       "      <td>2025</td>\n",
       "      <td>AAS</td>\n",
       "      <td>HS1</td>\n",
       "      <td>John Wiley &amp; Sons Ltd. UK</td>\n",
       "      <td>Scandinavian Society of Anaesthesiology and In...</td>\n",
       "      <td>Anaesthesia &amp; Pain Management</td>\n",
       "      <td>Vendor Managed</td>\n",
       "      <td>External</td>\n",
       "      <td>Society Owned</td>\n",
       "      <td>Hybrid Model</td>\n",
       "      <td>...</td>\n",
       "      <td>Established Title</td>\n",
       "      <td>950.0</td>\n",
       "      <td>959.0</td>\n",
       "      <td>949.0</td>\n",
       "      <td>36.021626</td>\n",
       "      <td>117.538796</td>\n",
       "      <td>0.202318</td>\n",
       "      <td>0.676647</td>\n",
       "      <td>0.740780</td>\n",
       "      <td>0.618546</td>\n",
       "    </tr>\n",
       "  </tbody>\n",
       "</table>\n",
       "<p>5 rows × 27 columns</p>\n",
       "</div>"
      ],
      "text/plain": [
       "     FY journal code Publishing Development Group                    IP Owner  \\\n",
       "0  2025         ABAC              APAC-JPN/AUS/NZ      JWAS Australia Ltd. AU   \n",
       "1  2025         ACEM                          HS2  John Wiley & Sons, Inc. US   \n",
       "2  2025         ACFI              APAC-JPN/AUS/NZ      JWAS Australia Ltd. AU   \n",
       "3  2025         ACR2                          HS3  John Wiley & Sons, Inc. US   \n",
       "4  2025          AAS                          HS1   John Wiley & Sons Ltd. UK   \n",
       "\n",
       "                                            Owned By  \\\n",
       "0  The Accounting Foundation, The University of S...   \n",
       "1            Society for Academic Emergency Medicine   \n",
       "2  Accounting and Finance Association of Australi...   \n",
       "3                   American College of Rheumatology   \n",
       "4  Scandinavian Society of Anaesthesiology and In...   \n",
       "\n",
       "             WOL Level 2 Subject Editorial Office Model Editor In Chief Model  \\\n",
       "0                     Accounting               External              External   \n",
       "1             Emergency Medicine               External              External   \n",
       "2                     Accounting         Vendor Managed              External   \n",
       "3                   Rheumatology          J&J Editorial              External   \n",
       "4  Anaesthesia & Pain Management         Vendor Managed              External   \n",
       "\n",
       "       ownership revenue model  ... marketing categorization Submissions  \\\n",
       "0  Society Owned  Hybrid Model  ...        Established Title       364.0   \n",
       "1  Society Owned  Hybrid Model  ...        Established Title      1337.0   \n",
       "2  Society Owned  Hybrid Model  ...        Established Title      1089.0   \n",
       "3  Society Owned            OA  ...        Established Title       425.0   \n",
       "4  Society Owned  Hybrid Model  ...        Established Title       950.0   \n",
       "\n",
       "  Decisions Final Decisions Median Submission to First Decision TAT  \\\n",
       "0     359.0           349.0                              125.466331   \n",
       "1    1321.0          1311.0                               44.506707   \n",
       "2    1078.0           984.0                               68.922101   \n",
       "3     428.0           414.0                               63.300208   \n",
       "4     959.0           949.0                               36.021626   \n",
       "\n",
       "   Median Submission to Acceptance TAT  \\\n",
       "0                           328.996916   \n",
       "1                            85.184236   \n",
       "2                           283.181944   \n",
       "3                           136.450949   \n",
       "4                           117.538796   \n",
       "\n",
       "   Acceptance Rate Including Non Peer Reviewed Papers  \\\n",
       "0                                           0.117479    \n",
       "1                                           0.169336    \n",
       "2                                           0.168699    \n",
       "3                                           0.410628    \n",
       "4                                           0.202318    \n",
       "\n",
       "  Acceptance Rate Including Peer Reviewed Papers  Triage Rate  EDR Rate  \n",
       "0                                       0.310345     0.653295       NaN  \n",
       "1                                       0.571429     0.755149  0.050343  \n",
       "2                                       0.372998     0.552846       NaN  \n",
       "3                                       0.754717     0.495169  0.229469  \n",
       "4                                       0.676647     0.740780  0.618546  \n",
       "\n",
       "[5 rows x 27 columns]"
      ]
     },
     "execution_count": 7,
     "metadata": {},
     "output_type": "execute_result"
    }
   ],
   "source": [
    "df.head()"
   ]
  },
  {
   "cell_type": "code",
   "execution_count": 8,
   "id": "c8074e19",
   "metadata": {},
   "outputs": [
    {
     "name": "stdout",
     "output_type": "stream",
     "text": [
      "<class 'pandas.core.frame.DataFrame'>\n",
      "RangeIndex: 6264 entries, 0 to 6263\n",
      "Data columns (total 27 columns):\n",
      " #   Column                                              Non-Null Count  Dtype  \n",
      "---  ------                                              --------------  -----  \n",
      " 0   FY                                                  6264 non-null   int64  \n",
      " 1   journal code                                        6264 non-null   object \n",
      " 2   Publishing Development Group                        6264 non-null   object \n",
      " 3   IP Owner                                            6264 non-null   object \n",
      " 4   Owned By                                            6264 non-null   object \n",
      " 5   WOL Level 2 Subject                                 6244 non-null   object \n",
      " 6   Editorial Office Model                              6264 non-null   object \n",
      " 7   Editor In Chief Model                               6096 non-null   object \n",
      " 8   ownership                                           6264 non-null   object \n",
      " 9   revenue model                                       6264 non-null   object \n",
      " 10  sound science title                                 6264 non-null   object \n",
      " 11  peer review model                                   6264 non-null   object \n",
      " 12  free format                                         6264 non-null   object \n",
      " 13  Wiley Research Exchange                             6224 non-null   object \n",
      " 14  OPT Portfolio                                       6264 non-null   object \n",
      " 15  launch year                                         6264 non-null   int64  \n",
      " 16  Age of Journal                                      6264 non-null   int64  \n",
      " 17  marketing categorization                            5972 non-null   object \n",
      " 18  Submissions                                         6096 non-null   float64\n",
      " 19  Decisions                                           6068 non-null   float64\n",
      " 20  Final Decisions                                     6063 non-null   float64\n",
      " 21  Median Submission to First Decision TAT             6059 non-null   float64\n",
      " 22  Median Submission to Acceptance TAT                 6015 non-null   float64\n",
      " 23  Acceptance Rate Including Non Peer Reviewed Papers  6050 non-null   float64\n",
      " 24  Acceptance Rate Including Peer Reviewed Papers      6015 non-null   float64\n",
      " 25  Triage Rate                                         5865 non-null   float64\n",
      " 26  EDR Rate                                            3456 non-null   float64\n",
      "dtypes: float64(9), int64(3), object(15)\n",
      "memory usage: 1.3+ MB\n"
     ]
    }
   ],
   "source": [
    "df.info()"
   ]
  },
  {
   "cell_type": "code",
   "execution_count": 9,
   "id": "b3775fbc",
   "metadata": {},
   "outputs": [],
   "source": [
    "df.columns = df.columns.str.strip()\n",
    "df = df.apply(lambda x: x.str.strip() if x.dtype == \"object\" else x)"
   ]
  },
  {
   "cell_type": "code",
   "execution_count": 10,
   "id": "ab6d7fc5",
   "metadata": {},
   "outputs": [],
   "source": [
    "excluded_cols = ['IP Owner', 'Owned By', 'launch year', 'Age of Journal']\n",
    "df_cleaned = df.drop(columns=excluded_cols).copy()"
   ]
  },
  {
   "cell_type": "code",
   "execution_count": 11,
   "id": "033a7cb7",
   "metadata": {},
   "outputs": [],
   "source": [
    "num_cols = df_cleaned.select_dtypes(include=['float64', 'int64']).columns\n",
    "num_cols = [col for col in num_cols if col != 'FY']"
   ]
  },
  {
   "cell_type": "code",
   "execution_count": null,
   "id": "34fa7c0a",
   "metadata": {},
   "outputs": [],
   "source": [
    "for col in num_cols:\n",
    "    df_cleaned[col] = df_cleaned.groupby('journal code')[col].transform(lambda grp: grp.fillna(grp.medan()))"
   ]
  },
  {
   "cell_type": "code",
   "execution_count": 12,
   "id": "59dbab51",
   "metadata": {},
   "outputs": [],
   "source": [
    "df_cleaned = df_cleaned.sort_values(['journal code', 'FY'])\n",
    "for lag in [1, 2, 3]:\n",
    "    df_cleaned[f'Submissions_Lag{lag}'] = df_cleaned.groupby('journal code')['Submissions'].shift(lag)\n",
    "df_cleaned['Submissions_Trend'] = df_cleaned['Submissions_Lag1'] - df_cleaned['Submissions_Lag3']\n"
   ]
  },
  {
   "cell_type": "markdown",
   "id": "3e3fa0ff",
   "metadata": {},
   "source": [
    "Preparing Data for Submission Number Prediction"
   ]
  },
  {
   "cell_type": "code",
   "execution_count": 13,
   "id": "cc95787b",
   "metadata": {},
   "outputs": [],
   "source": [
    "feature_cols = ['Submissions_Lag1', 'Submissions_Lag2', 'Submissions_Lag3', 'Submissions_Trend']\n",
    "train_df = df_cleaned[df_cleaned[feature_cols].notnull().all(axis=1)].copy()\n",
    "X_train = train_df[train_df['FY'] < 2026][feature_cols]\n",
    "y_train = train_df[train_df['FY'] < 2026]['Submissions']"
   ]
  },
  {
   "cell_type": "markdown",
   "id": "28be9cb4",
   "metadata": {},
   "source": [
    "Training Model and Predicting Submission for FY2026"
   ]
  },
  {
   "cell_type": "code",
   "execution_count": 14,
   "id": "1c69e5e8",
   "metadata": {},
   "outputs": [],
   "source": [
    "rf_model = RandomForestRegressor(n_estimators=100, random_state=42)\n",
    "rf_model.fit(X_train, y_train)\n",
    "\n",
    "predict_df = df_cleaned[df_cleaned['FY'] == 2025].copy()\n",
    "predict_df['Submissions_Trend'] = predict_df['Submissions_Lag1'] - predict_df['Submissions_Lag3']\n",
    "X_pred = predict_df[feature_cols]\n",
    "predict_df['Predicted_Submissions_2026'] = rf_model.predict(X_pred).round().astype(int)"
   ]
  },
  {
   "cell_type": "markdown",
   "id": "d746dea6",
   "metadata": {},
   "source": [
    "Defining Target and Categorical Column"
   ]
  },
  {
   "cell_type": "code",
   "execution_count": 16,
   "id": "84d50ea6",
   "metadata": {},
   "outputs": [],
   "source": [
    "target_cols = [\n",
    "    'Decisions', 'Final Decisions',\n",
    "    'Median Submission to First Decision TAT',\n",
    "    'Median Submission to Acceptance TAT',\n",
    "    'Acceptance Rate Including Non Peer Reviewed Papers',\n",
    "    'Acceptance Rate Including Peer Reviewed Papers',\n",
    "    'Triage Rate', 'EDR Rate'\n",
    "]\n",
    "\n",
    "categorical_cols = [\n",
    "    'Publishing Development Group', 'WOL Level 2 Subject',\n",
    "    'Editorial Office Model', 'Editor In Chief Model', 'ownership', 'revenue model',\n",
    "    'sound science title', 'peer review model', 'free format', 'Wiley Research Exchange',\n",
    "    'OPT Portfolio', 'marketing categorization'\n",
    "]"
   ]
  },
  {
   "cell_type": "markdown",
   "id": "8c205828",
   "metadata": {},
   "source": [
    "Prepare data for Other Target Columns"
   ]
  },
  {
   "cell_type": "code",
   "execution_count": 17,
   "id": "bb8f86ec",
   "metadata": {},
   "outputs": [],
   "source": [
    "model2_train_df = df_cleaned[df_cleaned['FY'] == 2025].copy()\n",
    "model2_train_df = model2_train_df.dropna(subset=target_cols)\n",
    "\n",
    "X_other = model2_train_df[categorical_cols + ['Submissions']].dropna()\n",
    "y_other = model2_train_df.loc[X_other.index, target_cols]"
   ]
  },
  {
   "cell_type": "markdown",
   "id": "55036f39",
   "metadata": {},
   "source": [
    "Creating Prediction Inputs for Other Columns:"
   ]
  },
  {
   "cell_type": "code",
   "execution_count": 18,
   "id": "c453942f",
   "metadata": {},
   "outputs": [],
   "source": [
    "X_pred_other = predict_df[categorical_cols].copy()\n",
    "X_pred_other['Submissions'] = predict_df['Predicted_Submissions_2026']\n",
    "X_pred_other = X_pred_other.dropna()\n",
    "predict_df = predict_df.loc[X_pred_other.index]"
   ]
  },
  {
   "cell_type": "markdown",
   "id": "20cb2a23",
   "metadata": {},
   "source": [
    "Fitting the Model for predicting other columns"
   ]
  },
  {
   "cell_type": "code",
   "execution_count": 19,
   "id": "effbe5f5",
   "metadata": {},
   "outputs": [],
   "source": [
    "preprocessor = ColumnTransformer(\n",
    "    transformers=[('cat', OneHotEncoder(handle_unknown='ignore'), categorical_cols)],\n",
    "    remainder='passthrough'\n",
    ")\n",
    "\n",
    "model2 = Pipeline(steps=[\n",
    "    ('preprocessor', preprocessor),\n",
    "    ('regressor', MultiOutputRegressor(RandomForestRegressor(n_estimators=100, random_state=42)))\n",
    "])\n",
    "\n",
    "model2.fit(X_other, y_other)\n",
    "predicted_other_metrics = model2.predict(X_pred_other)"
   ]
  },
  {
   "cell_type": "markdown",
   "id": "3793b5a6",
   "metadata": {},
   "source": [
    "Exporting the Final Output"
   ]
  },
  {
   "cell_type": "code",
   "execution_count": 22,
   "id": "630275d8",
   "metadata": {},
   "outputs": [],
   "source": [
    "predicted_metrics_df = pd.DataFrame(predicted_other_metrics, columns=[col + '_2026' for col in target_cols])\n",
    "final_predictions = pd.concat([\n",
    "    predict_df[['journal code', 'Submissions', 'Decisions', 'Predicted_Submissions_2026']].reset_index(drop=True),\n",
    "    predicted_metrics_df\n",
    "], axis=1)\n",
    "\n",
    "final_predictions.to_excel(\"C:\\\\Users\\\\masali\\\\OneDrive - Wiley\\\\Desktop\\\\FYGoals\\\\test.xlsx\", index=False)"
   ]
  }
 ],
 "metadata": {
  "kernelspec": {
   "display_name": "Python 3",
   "language": "python",
   "name": "python3"
  },
  "language_info": {
   "codemirror_mode": {
    "name": "ipython",
    "version": 3
   },
   "file_extension": ".py",
   "mimetype": "text/x-python",
   "name": "python",
   "nbconvert_exporter": "python",
   "pygments_lexer": "ipython3",
   "version": "3.9.6"
  }
 },
 "nbformat": 4,
 "nbformat_minor": 5
}
